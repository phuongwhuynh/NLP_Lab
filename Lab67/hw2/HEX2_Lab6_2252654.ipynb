{
 "cells": [
  {
   "cell_type": "code",
   "execution_count": 12,
   "metadata": {},
   "outputs": [
    {
     "name": "stdout",
     "output_type": "stream",
     "text": [
      "titanic.zip: Skipping, found more recently modified local copy (use --force to force download)\n"
     ]
    }
   ],
   "source": [
    "!kaggle competitions download -c titanic -p ."
   ]
  },
  {
   "cell_type": "code",
   "execution_count": 13,
   "metadata": {},
   "outputs": [],
   "source": [
    "import numpy as np\n",
    "import pandas as pd\n",
    "import zipfile\n"
   ]
  },
  {
   "cell_type": "code",
   "execution_count": 14,
   "metadata": {},
   "outputs": [],
   "source": [
    "with zipfile.ZipFile(\"titanic.zip\", \"r\") as zip_ref:\n",
    "    zip_ref.extractall(\".\")  \n"
   ]
  },
  {
   "cell_type": "code",
   "execution_count": 115,
   "metadata": {},
   "outputs": [],
   "source": [
    "train = pd.read_csv(\"train.csv\")\n",
    "test=pd.read_csv(\"test.csv\")"
   ]
  },
  {
   "cell_type": "code",
   "execution_count": 116,
   "metadata": {},
   "outputs": [
    {
     "data": {
      "text/plain": [
       "Title\n",
       "Mr              517\n",
       "Miss            182\n",
       "Mrs             125\n",
       "Master           40\n",
       "Dr                7\n",
       "Rev               6\n",
       "Mlle              2\n",
       "Major             2\n",
       "Col               2\n",
       "the Countess      1\n",
       "Capt              1\n",
       "Ms                1\n",
       "Sir               1\n",
       "Lady              1\n",
       "Mme               1\n",
       "Don               1\n",
       "Jonkheer          1\n",
       "Name: count, dtype: int64"
      ]
     },
     "execution_count": 116,
     "metadata": {},
     "output_type": "execute_result"
    }
   ],
   "source": [
    "# extract Title from Name\n",
    "train['Title'] = train['Name'].apply(lambda x: x.split('.')[0].split(',')[1].strip())\n",
    "test['Title'] = test['Name'].apply(lambda x: x.split('.')[0].split(',')[1].strip())\n",
    "train['Title'].value_counts()"
   ]
  },
  {
   "cell_type": "code",
   "execution_count": 117,
   "metadata": {},
   "outputs": [
    {
     "name": "stdout",
     "output_type": "stream",
     "text": [
      "Title\n",
      "Mr        517\n",
      "Miss      182\n",
      "Mrs       125\n",
      "Master     40\n",
      "Misc       27\n",
      "Name: count, dtype: int64\n",
      "Title\n",
      "Mr        240\n",
      "Miss       78\n",
      "Mrs        72\n",
      "Master     21\n",
      "Misc        7\n",
      "Name: count, dtype: int64\n"
     ]
    }
   ],
   "source": [
    "allowed_titles = ['Mr', 'Miss', 'Master', 'Mrs']\n",
    "\n",
    "# replace uncommon titles with 'Misc'\n",
    "train['Title'] = train['Title'].apply(lambda x: x if x in allowed_titles else 'Misc')\n",
    "test['Title'] = test['Title'].apply(lambda x: x if x in allowed_titles else 'Misc')\n",
    "\n",
    "print(train['Title'].value_counts())\n",
    "print(test['Title'].value_counts())"
   ]
  },
  {
   "cell_type": "code",
   "execution_count": 118,
   "metadata": {},
   "outputs": [],
   "source": [
    "train.drop(columns=['PassengerId','Ticket','Name','Cabin','SibSp','Parch'],inplace=True)\n",
    "test.drop(columns=['PassengerId','Ticket','Name','Cabin','SibSp','Parch'],inplace=True)\n",
    "\n",
    "train[\"Sex\"] = train[\"Sex\"].map({\"male\": 0, \"female\": 1})\n",
    "test[\"Sex\"] = test[\"Sex\"].map({\"male\": 0, \"female\": 1})\n",
    "\n",
    "train[\"Embarked\"] = train[\"Embarked\"].fillna(train[\"Embarked\"].mode()[0])\n",
    "test[\"Embarked\"] = test[\"Embarked\"].fillna(test[\"Embarked\"].mode()[0])\n",
    "\n",
    "\n",
    "# train['Fare']=train['Fare'].fillna(train['Fare'].mean())\n",
    "# test['Fare']=test['Fare'].fillna(train['Fare'].mean())\n",
    "\n",
    "# title_age_mean = train.groupby('Title')['Age'].mean()\n",
    "# train['Age'] = train.apply(lambda row: title_age_mean[row['Title']] if pd.isna(row['Age']) else row['Age'], axis=1)\n",
    "# title_age_mean = test.groupby('Title')['Age'].mean()\n",
    "# test['Age'] = test.apply(lambda row: title_age_mean[row['Title']] if pd.isna(row['Age']) else row['Age'], axis=1)\n",
    "\n",
    "\n",
    "train['Fare']=train['Fare'].fillna(train['Fare'].median())\n",
    "test['Fare']=test['Fare'].fillna(train['Fare'].median())\n",
    "title_age_mean = train.groupby('Title')['Age'].median()\n",
    "train['Age'] = train.apply(lambda row: title_age_mean[row['Title']] if pd.isna(row['Age']) else row['Age'], axis=1)\n",
    "title_age_mean = test.groupby('Title')['Age'].median()\n",
    "test['Age'] = test.apply(lambda row: title_age_mean[row['Title']] if pd.isna(row['Age']) else row['Age'], axis=1)\n"
   ]
  },
  {
   "cell_type": "code",
   "execution_count": 119,
   "metadata": {},
   "outputs": [],
   "source": [
    "numeric_cols = ['Age','Fare']\n",
    "train[numeric_cols] = np.log1p(train[numeric_cols])\n",
    "test[numeric_cols] = np.log1p(test[numeric_cols])\n",
    "\n"
   ]
  },
  {
   "cell_type": "code",
   "execution_count": 120,
   "metadata": {},
   "outputs": [],
   "source": [
    "train = pd.get_dummies(train).astype(float)\n",
    "test = pd.get_dummies(test).astype(float)\n",
    "\n",
    "X_train = train.drop(columns=['Survived'])\n",
    "y_train = train['Survived']  \n",
    "\n",
    "X_train, X_test = X_train.align(test, join='left', axis=1, fill_value=0)\n",
    "\n",
    "X_train = X_train.values\n",
    "y_train = y_train.values\n",
    "X_test = X_test.values\n"
   ]
  },
  {
   "cell_type": "code",
   "execution_count": 121,
   "metadata": {},
   "outputs": [],
   "source": [
    "def sigmoid(z):\n",
    "    return 1 / (1 + np.exp(-z))\n",
    "\n",
    "def fit(X,y, learning_rate=0.01,epochs=1000):\n",
    "    m, n = X.shape\n",
    "    weights = np.zeros(n)\n",
    "    bias=0\n",
    "    for _ in range(epochs):\n",
    "        linear_model = np.dot(X, weights) + bias\n",
    "        predictions = sigmoid(linear_model)\n",
    "        dw = (1 / m) * np.dot(X.T, (predictions - y))\n",
    "        db = (1 / m) * np.sum(predictions - y)\n",
    "        weights -= learning_rate * dw\n",
    "        bias -= learning_rate * db\n",
    "    return weights,bias\n",
    "\n",
    "def predict(X,weights,bias):\n",
    "    linear_model = np.dot(X, weights) + bias\n",
    "    predictions = sigmoid(linear_model)\n",
    "    return (predictions >= 0.5).astype(int)\n"
   ]
  },
  {
   "cell_type": "code",
   "execution_count": 122,
   "metadata": {},
   "outputs": [
    {
     "name": "stdout",
     "output_type": "stream",
     "text": [
      "[-1.26983973  3.63072777 -0.4137324  -0.17476546  0.93074158  0.89364274\n",
      "  0.32045106  2.31593002  0.11413606 -0.61773652  0.36084967 -0.02834385]\n",
      "2.144835369307404\n"
     ]
    }
   ],
   "source": [
    "weights,bias=fit(X_train,y_train,epochs=500000)\n",
    "print(weights)\n",
    "print(bias)"
   ]
  },
  {
   "cell_type": "code",
   "execution_count": 112,
   "metadata": {},
   "outputs": [],
   "source": [
    "y_pred=predict(X_test,weights,bias)\n",
    "submission = pd.DataFrame({'PassengerId': test.index + 892, 'Survived': y_pred})\n",
    "submission.to_csv('submission.csv', index=False)"
   ]
  },
  {
   "cell_type": "markdown",
   "metadata": {},
   "source": []
  }
 ],
 "metadata": {
  "kernelspec": {
   "display_name": "Python 3",
   "language": "python",
   "name": "python3"
  },
  "language_info": {
   "codemirror_mode": {
    "name": "ipython",
    "version": 3
   },
   "file_extension": ".py",
   "mimetype": "text/x-python",
   "name": "python",
   "nbconvert_exporter": "python",
   "pygments_lexer": "ipython3",
   "version": "3.12.3"
  }
 },
 "nbformat": 4,
 "nbformat_minor": 2
}
