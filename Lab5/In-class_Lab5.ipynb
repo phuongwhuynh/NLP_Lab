{
 "cells": [
  {
   "cell_type": "markdown",
   "metadata": {},
   "source": [
    "# Plagiarism Detection"
   ]
  },
  {
   "cell_type": "code",
   "execution_count": null,
   "metadata": {},
   "outputs": [],
   "source": [
    "import os\n",
    "import numpy as np\n",
    "import gensim.downloader as api\n",
    "import zipfile\n",
    "import kagglehub\n",
    "import nltk\n",
    "import pandas as pd\n",
    "from nltk.corpus import stopwords\n",
    "from collections import defaultdict\n"
   ]
  },
  {
   "cell_type": "markdown",
   "metadata": {},
   "source": [
    "## 1. Exploring the Dataset  \n",
    "Download the data, unzip it. The directory is `data`"
   ]
  },
  {
   "cell_type": "code",
   "execution_count": 41,
   "metadata": {},
   "outputs": [],
   "source": [
    "data_url = \"https://s3.amazonaws.com/video.udacity-data.com/topher/2019/January/5c4147f9_data/data.zip\"\n",
    "data_path = \"data.zip\"\n",
    "\n",
    "if not os.path.exists(\"data\"):\n",
    "    response = requests.get(data_url)\n",
    "    with open(data_path, \"wb\") as f:\n",
    "        f.write(response.content)\n",
    "    with zipfile.ZipFile(data_path, \"r\") as zip_ref:\n",
    "        zip_ref.extractall()\n"
   ]
  },
  {
   "cell_type": "markdown",
   "metadata": {},
   "source": [
    "Using api to load the model `word2vec`"
   ]
  },
  {
   "cell_type": "code",
   "execution_count": 42,
   "metadata": {},
   "outputs": [],
   "source": [
    "word2vec_model = api.load(\"word2vec-google-news-300\")\n"
   ]
  },
  {
   "cell_type": "markdown",
   "metadata": {},
   "source": [
    "## 2. Build a class for computing document similarity (`DocSim` class)\n"
   ]
  },
  {
   "cell_type": "code",
   "execution_count": 43,
   "metadata": {},
   "outputs": [],
   "source": [
    "class DocSim:\n",
    "    def __init__(self, model, stopwords=STOPWORDS):\n",
    "        self.model = model\n",
    "        self.stopwords = stopwords\n",
    "    \n",
    "    def vectorize(self, text):\n",
    "        words = [word for word in text.lower().split() if word not in self.stopwords]\n",
    "        word_vectors = [self.model[word] for word in words if word in self.model]\n",
    "        return np.mean(word_vectors, axis=0) if word_vectors else np.zeros(300)\n",
    "    \n",
    "    def similarity(self, text1, text2):\n",
    "        vec1 = self.vectorize(text1)\n",
    "        vec2 = self.vectorize(text2)\n",
    "        return np.dot(vec1, vec2) / (np.linalg.norm(vec1) * np.linalg.norm(vec2))\n"
   ]
  },
  {
   "cell_type": "markdown",
   "metadata": {},
   "source": [
    "## 3. Create an instance of the above class (Load the pre-trained word embedding model, Create a list of stopwords and create an instance of the `DocSim` class)\n"
   ]
  },
  {
   "cell_type": "code",
   "execution_count": 44,
   "metadata": {},
   "outputs": [
    {
     "name": "stderr",
     "output_type": "stream",
     "text": [
      "[nltk_data] Downloading package stopwords to\n",
      "[nltk_data]     C:\\Users\\ADMIN\\AppData\\Roaming\\nltk_data...\n",
      "[nltk_data]   Package stopwords is already up-to-date!\n"
     ]
    }
   ],
   "source": [
    "doc_sim = DocSim(word2vec_model)\n",
    "nltk.download('stopwords')\n",
    "STOPWORDS = set(stopwords.words('english'))"
   ]
  },
  {
   "cell_type": "markdown",
   "metadata": {},
   "source": [
    "## 4. Plagiarism Detection and Evaluation\n"
   ]
  },
  {
   "cell_type": "markdown",
   "metadata": {},
   "source": [
    "Load all `.txt` file from the directory `data`. Group them based on their task to compare with its original text"
   ]
  },
  {
   "cell_type": "code",
   "execution_count": 45,
   "metadata": {},
   "outputs": [],
   "source": [
    "file_data = pd.read_csv(\"data/file_information.csv\")\n",
    "files_by_task = defaultdict(list)\n",
    "for _, row in file_data.iterrows():\n",
    "    file_name, task, category = row[\"File\"], row[\"Task\"], row[\"Category\"]\n",
    "    files_by_task[task].append((file_name, category))\n"
   ]
  },
  {
   "cell_type": "code",
   "execution_count": 46,
   "metadata": {},
   "outputs": [],
   "source": [
    "def read_file_content(file_name):\n",
    "    file_path = os.path.join(\"data\", file_name)  \n",
    "    try:\n",
    "        with open(file_path, \"r\", encoding=\"utf-8\") as file:\n",
    "            return file.read()\n",
    "    except UnicodeDecodeError:\n",
    "        try:\n",
    "            with open(file_path, \"r\", encoding=\"ISO-8859-1\") as file:\n",
    "                return file.read()\n",
    "        except Exception as e:\n",
    "            print(f\"Error reading {file_path}: {e}\")\n",
    "            return \"\"\n",
    "\n"
   ]
  },
  {
   "cell_type": "markdown",
   "metadata": {},
   "source": [
    "Read each `.txt` and compute similarity score using `DocSim`"
   ]
  },
  {
   "cell_type": "code",
   "execution_count": 47,
   "metadata": {},
   "outputs": [],
   "source": [
    "similarity_results = {}\n",
    "for task, files in files_by_task.items():\n",
    "    orig_file = next((f for f, c in files if c == 'orig'), None)\n",
    "    if not orig_file:\n",
    "        continue\n",
    "    orig_text = read_file_content(orig_file)\n",
    "    for file_name, category in files:\n",
    "        if file_name == orig_file:\n",
    "            continue\n",
    "        text = read_file_content(file_name)\n",
    "        similarity_score = doc_sim.similarity(text, orig_text)\n",
    "        similarity_results[file_name] = similarity_score\n",
    "\n"
   ]
  },
  {
   "cell_type": "code",
   "execution_count": 48,
   "metadata": {},
   "outputs": [
    {
     "name": "stdout",
     "output_type": "stream",
     "text": [
      "Similarity Score for g0pA_taska.txt: 0.870093584060669\n",
      "Similarity Score for g0pB_taska.txt: 0.8094625473022461\n",
      "Similarity Score for g0pC_taska.txt: 0.9185640215873718\n",
      "Similarity Score for g0pD_taska.txt: 0.9659775495529175\n",
      "Similarity Score for g0pE_taska.txt: 0.9979899525642395\n",
      "Similarity Score for g1pA_taska.txt: 0.8609130382537842\n",
      "Similarity Score for g1pB_taska.txt: 0.8283300995826721\n",
      "Similarity Score for g1pD_taska.txt: 0.9604145884513855\n",
      "Similarity Score for g2pA_taska.txt: 0.8464297652244568\n",
      "Similarity Score for g2pB_taska.txt: 0.8507804274559021\n",
      "Similarity Score for g2pC_taska.txt: 0.957662045955658\n",
      "Similarity Score for g2pE_taska.txt: 0.9752243161201477\n",
      "Similarity Score for g3pA_taska.txt: 0.8792639374732971\n",
      "Similarity Score for g3pB_taska.txt: 0.8924782872200012\n",
      "Similarity Score for g3pC_taska.txt: 0.9269084930419922\n",
      "Similarity Score for g4pB_taska.txt: 0.8501298427581787\n",
      "Similarity Score for g4pC_taska.txt: 0.9971052408218384\n",
      "Similarity Score for g4pD_taska.txt: 0.957493782043457\n",
      "Similarity Score for g4pE_taska.txt: 0.8856014609336853\n",
      "Similarity Score for g0pA_taskb.txt: 0.9568156003952026\n",
      "Similarity Score for g0pB_taskb.txt: 0.9149953126907349\n",
      "Similarity Score for g0pC_taskb.txt: 0.8984510898590088\n",
      "Similarity Score for g0pD_taskb.txt: 0.8729729652404785\n",
      "Similarity Score for g0pE_taskb.txt: 0.9159277677536011\n",
      "Similarity Score for g1pA_taskb.txt: 0.9270468950271606\n",
      "Similarity Score for g1pB_taskb.txt: 0.8927981853485107\n",
      "Similarity Score for g1pD_taskb.txt: 0.8958415389060974\n",
      "Similarity Score for g2pA_taskb.txt: 0.9552899599075317\n",
      "Similarity Score for g2pB_taskb.txt: 0.9071339964866638\n",
      "Similarity Score for g2pC_taskb.txt: 0.919913113117218\n",
      "Similarity Score for g2pE_taskb.txt: 0.8904463052749634\n",
      "Similarity Score for g3pA_taskb.txt: 0.9515397548675537\n",
      "Similarity Score for g3pB_taskb.txt: 0.9160885214805603\n",
      "Similarity Score for g3pC_taskb.txt: 0.9310626983642578\n",
      "Similarity Score for g4pB_taskb.txt: 0.8928358554840088\n",
      "Similarity Score for g4pC_taskb.txt: 0.9033671021461487\n",
      "Similarity Score for g4pD_taskb.txt: 0.8624889850616455\n",
      "Similarity Score for g4pE_taskb.txt: 0.9560480713844299\n",
      "Similarity Score for g0pA_taskc.txt: 0.9809211492538452\n",
      "Similarity Score for g0pB_taskc.txt: 0.9907762408256531\n",
      "Similarity Score for g0pC_taskc.txt: 0.8929786086082458\n",
      "Similarity Score for g0pD_taskc.txt: 0.9719095826148987\n",
      "Similarity Score for g0pE_taskc.txt: 0.83009272813797\n",
      "Similarity Score for g1pA_taskc.txt: 0.9508383870124817\n",
      "Similarity Score for g1pB_taskc.txt: 0.9598751664161682\n",
      "Similarity Score for g1pD_taskc.txt: 0.8930054306983948\n",
      "Similarity Score for g2pA_taskc.txt: 0.994128406047821\n",
      "Similarity Score for g2pB_taskc.txt: 0.9660325646400452\n",
      "Similarity Score for g2pC_taskc.txt: 0.9089456796646118\n",
      "Similarity Score for g2pE_taskc.txt: 0.7496241927146912\n",
      "Similarity Score for g3pA_taskc.txt: 0.9808942079544067\n",
      "Similarity Score for g3pB_taskc.txt: 0.9538484215736389\n",
      "Similarity Score for g3pC_taskc.txt: 0.847159206867218\n",
      "Similarity Score for g4pB_taskc.txt: 0.9658758640289307\n",
      "Similarity Score for g4pC_taskc.txt: 0.876508355140686\n",
      "Similarity Score for g4pD_taskc.txt: 0.9017113447189331\n",
      "Similarity Score for g4pE_taskc.txt: 0.9089151620864868\n",
      "Similarity Score for g0pA_taskd.txt: 0.8906258940696716\n",
      "Similarity Score for g0pB_taskd.txt: 0.9618105888366699\n",
      "Similarity Score for g0pC_taskd.txt: 0.9661364555358887\n",
      "Similarity Score for g0pD_taskd.txt: 0.7744148969650269\n",
      "Similarity Score for g0pE_taskd.txt: 0.8134982585906982\n",
      "Similarity Score for g1pA_taskd.txt: 0.9327573776245117\n",
      "Similarity Score for g1pB_taskd.txt: 0.9414374828338623\n",
      "Similarity Score for g1pD_taskd.txt: 0.8640110492706299\n",
      "Similarity Score for g2pA_taskd.txt: 0.8296105861663818\n",
      "Similarity Score for g2pB_taskd.txt: 0.9892354011535645\n",
      "Similarity Score for g2pC_taskd.txt: 0.918767511844635\n",
      "Similarity Score for g2pE_taskd.txt: 0.8768107295036316\n",
      "Similarity Score for g3pA_taskd.txt: 0.997769832611084\n",
      "Similarity Score for g3pB_taskd.txt: 0.8758739233016968\n",
      "Similarity Score for g3pC_taskd.txt: 0.9398084878921509\n",
      "Similarity Score for g4pB_taskd.txt: 0.9764829277992249\n",
      "Similarity Score for g4pC_taskd.txt: 0.9957066774368286\n",
      "Similarity Score for g4pD_taskd.txt: 0.8624134659767151\n",
      "Similarity Score for g4pE_taskd.txt: 0.791141152381897\n",
      "Similarity Score for g0pA_taske.txt: 0.903753936290741\n",
      "Similarity Score for g0pB_taske.txt: 0.9440538287162781\n",
      "Similarity Score for g0pC_taske.txt: 0.8956175446510315\n",
      "Similarity Score for g0pD_taske.txt: 0.8582993745803833\n",
      "Similarity Score for g0pE_taske.txt: 0.8785591721534729\n",
      "Similarity Score for g1pA_taske.txt: 0.902367889881134\n",
      "Similarity Score for g1pB_taske.txt: 0.9270210266113281\n",
      "Similarity Score for g1pD_taske.txt: 0.9135980606079102\n",
      "Similarity Score for g2pA_taske.txt: 0.9001308083534241\n",
      "Similarity Score for g2pB_taske.txt: 0.9573041200637817\n",
      "Similarity Score for g2pC_taske.txt: 0.9190158843994141\n",
      "Similarity Score for g2pE_taske.txt: 0.9189178943634033\n",
      "Similarity Score for g3pA_taske.txt: 0.884658932685852\n",
      "Similarity Score for g3pB_taske.txt: 0.9254266619682312\n",
      "Similarity Score for g3pC_taske.txt: 0.8835000395774841\n",
      "Similarity Score for g4pB_taske.txt: 0.982404351234436\n",
      "Similarity Score for g4pC_taske.txt: 0.9524714946746826\n",
      "Similarity Score for g4pD_taske.txt: 0.9518511891365051\n",
      "Similarity Score for g4pE_taske.txt: 0.8554835915565491\n"
     ]
    }
   ],
   "source": [
    "# Check similarity score of each .txt file\n",
    "for file, score in similarity_results.items():\n",
    "    print(f\"Similarity Score for {file}: {score}\")"
   ]
  },
  {
   "cell_type": "code",
   "execution_count": 49,
   "metadata": {},
   "outputs": [
    {
     "data": {
      "image/png": "[encoded data removed]",
      "text/plain": [
       "<Figure size 1000x500 with 1 Axes>"
      ]
     },
     "metadata": {},
     "output_type": "display_data"
    }
   ],
   "source": [
    "import matplotlib.pyplot as plt\n",
    "\n",
    "plt.figure(figsize=(10, 5))\n",
    "plt.hist(similarity_results.values(), bins=20, edgecolor='black')\n",
    "plt.xlabel('Similarity Score')\n",
    "plt.ylabel('Frequency')\n",
    "plt.title('Summary')\n",
    "plt.show()\n"
   ]
  }
 ],
 "metadata": {
  "kernelspec": {
   "display_name": "Python 3",
   "language": "python",
   "name": "python3"
  },
  "language_info": {
   "codemirror_mode": {
    "name": "ipython",
    "version": 3
   },
   "file_extension": ".py",
   "mimetype": "text/x-python",
   "name": "python",
   "nbconvert_exporter": "python",
   "pygments_lexer": "ipython3",
   "version": "3.12.0"
  }
 },
 "nbformat": 4,
 "nbformat_minor": 2
}
